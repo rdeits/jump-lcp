{
 "cells": [
  {
   "cell_type": "code",
   "execution_count": 1,
   "metadata": {},
   "outputs": [
    {
     "name": "stderr",
     "output_type": "stream",
     "text": [
      "\u001b[1m\u001b[36mINFO: \u001b[39m\u001b[22m\u001b[36mRecompiling stale cache file /home/rdeits/locomotion/explorations/jump-lcp/packages/lib/v0.6/Gurobi.ji for module Gurobi.\n",
      "\u001b[39m\u001b[1m\u001b[36mINFO: \u001b[39m\u001b[22m\u001b[36mRecompiling stale cache file /home/rdeits/locomotion/explorations/jump-lcp/packages/lib/v0.6/MathOptInterfaceGurobi.ji for module MathOptInterfaceGurobi.\n",
      "\u001b[39m\u001b[1m\u001b[36mINFO: \u001b[39m\u001b[22m\u001b[36mPrecompiling module MathOptInterfaceGLPK.\n",
      "\u001b[39m"
     ]
    },
    {
     "data": {
      "text/plain": [
       "MathOptInterface"
      ]
     },
     "execution_count": 1,
     "metadata": {},
     "output_type": "execute_result"
    }
   ],
   "source": [
    "using JuMP\n",
    "using MathOptInterface\n",
    "using MathOptInterfaceGurobi\n",
    "using MathOptInterfaceGLPK\n",
    "const MOI = MathOptInterface"
   ]
  },
  {
   "cell_type": "code",
   "execution_count": 3,
   "metadata": {},
   "outputs": [
    {
     "ename": "LoadError",
     "evalue": "\u001b[91mMethodError: no method matching copy!(::MathOptInterfaceGLPK.GLPKOptimizerLP, ::MathOptInterface.Utilities.UniversalFallback{JuMP.JuMPMOIModel{Float64}}; copynames=false)\u001b[0m\nClosest candidates are:\n  copy!(::LinQuadOptInterface.LinQuadOptimizer, ::MathOptInterface.ModelLike) at /home/rdeits/locomotion/explorations/jump-lcp/packages/v0.6/LinQuadOptInterface/src/copy.jl:1\u001b[91m got unsupported keyword argument \"copynames\"\u001b[39m\n  copy!(\u001b[91m::MathOptInterface.Utilities.AbstractModel\u001b[39m, ::MathOptInterface.ModelLike; copynames) at /home/rdeits/locomotion/explorations/jump-lcp/packages/v0.6/MathOptInterface/src/Utilities/model.jl:283\n  copy!(\u001b[91m::MathOptInterface.Utilities.MockOptimizer\u001b[39m, ::MathOptInterface.ModelLike; copynames) at /home/rdeits/locomotion/explorations/jump-lcp/packages/v0.6/MathOptInterface/src/Utilities/mockoptimizer.jl:232\n  ...\u001b[39m",
     "output_type": "error",
     "traceback": [
      "\u001b[91mMethodError: no method matching copy!(::MathOptInterfaceGLPK.GLPKOptimizerLP, ::MathOptInterface.Utilities.UniversalFallback{JuMP.JuMPMOIModel{Float64}}; copynames=false)\u001b[0m\nClosest candidates are:\n  copy!(::LinQuadOptInterface.LinQuadOptimizer, ::MathOptInterface.ModelLike) at /home/rdeits/locomotion/explorations/jump-lcp/packages/v0.6/LinQuadOptInterface/src/copy.jl:1\u001b[91m got unsupported keyword argument \"copynames\"\u001b[39m\n  copy!(\u001b[91m::MathOptInterface.Utilities.AbstractModel\u001b[39m, ::MathOptInterface.ModelLike; copynames) at /home/rdeits/locomotion/explorations/jump-lcp/packages/v0.6/MathOptInterface/src/Utilities/model.jl:283\n  copy!(\u001b[91m::MathOptInterface.Utilities.MockOptimizer\u001b[39m, ::MathOptInterface.ModelLike; copynames) at /home/rdeits/locomotion/explorations/jump-lcp/packages/v0.6/MathOptInterface/src/Utilities/mockoptimizer.jl:232\n  ...\u001b[39m",
      "",
      "Stacktrace:",
      " [1] \u001b[1mattachoptimizer!\u001b[22m\u001b[22m\u001b[1m(\u001b[22m\u001b[22m::MathOptInterface.Utilities.CachingOptimizer\u001b[1m)\u001b[22m\u001b[22m at \u001b[1m/home/rdeits/locomotion/explorations/jump-lcp/packages/v0.6/MathOptInterface/src/Utilities/cachingoptimizer.jl:120\u001b[22m\u001b[22m",
      " [2] \u001b[1moptimize!\u001b[22m\u001b[22m\u001b[1m(\u001b[22m\u001b[22m::MathOptInterface.Utilities.CachingOptimizer\u001b[1m)\u001b[22m\u001b[22m at \u001b[1m/home/rdeits/locomotion/explorations/jump-lcp/packages/v0.6/MathOptInterface/src/Utilities/cachingoptimizer.jl:153\u001b[22m\u001b[22m",
      " [3] \u001b[1m#optimize#91\u001b[22m\u001b[22m\u001b[1m(\u001b[22m\u001b[22m::Bool, ::Function, ::JuMP.Model\u001b[1m)\u001b[22m\u001b[22m at \u001b[1m/home/rdeits/locomotion/explorations/jump-lcp/packages/v0.6/JuMP/src/optimizerinterface.jl:47\u001b[22m\u001b[22m",
      " [4] \u001b[1moptimize\u001b[22m\u001b[22m\u001b[1m(\u001b[22m\u001b[22m::JuMP.Model\u001b[1m)\u001b[22m\u001b[22m at \u001b[1m/home/rdeits/locomotion/explorations/jump-lcp/packages/v0.6/JuMP/src/optimizerinterface.jl:37\u001b[22m\u001b[22m",
      " [5] \u001b[1minclude_string\u001b[22m\u001b[22m\u001b[1m(\u001b[22m\u001b[22m::String, ::String\u001b[1m)\u001b[22m\u001b[22m at \u001b[1m./loading.jl:522\u001b[22m\u001b[22m"
     ]
    }
   ],
   "source": [
    "m = Model()\n",
    "@variable m x >= 0\n",
    "@objective m Min x\n",
    "opt = GLPKOptimizerLP()\n",
    "MOI.Utilities.resetoptimizer!(m, opt)\n",
    "JuMP.optimize(m)"
   ]
  },
  {
   "cell_type": "code",
   "execution_count": 4,
   "metadata": {},
   "outputs": [
    {
     "name": "stderr",
     "output_type": "stream",
     "text": [
      "\u001b[1m\u001b[36mINFO: \u001b[39m\u001b[22m\u001b[36mPrecompiling module GZip.\n",
      "\u001b[39m"
     ]
    },
    {
     "ename": "LoadError",
     "evalue": "\u001b[91mMethodError: no method matching copy!(::SemidefiniteOptInterface.SOItoMOIBridge{Float64,CSDP.CSDPSDOptimizer}, ::MathOptInterface.Utilities.UniversalFallback{JuMP.JuMPMOIModel{Float64}}; copynames=false)\u001b[0m\nClosest candidates are:\n  copy!(::SemidefiniteOptInterface.SOItoMOIBridge, ::MathOptInterface.ModelLike) at /home/rdeits/locomotion/explorations/jump-lcp/packages/v0.6/SemidefiniteOptInterface/src/SemidefiniteOptInterface.jl:117\u001b[91m got unsupported keyword argument \"copynames\"\u001b[39m\n  copy!(\u001b[91m::MathOptInterface.Utilities.AbstractModel\u001b[39m, ::MathOptInterface.ModelLike; copynames) at /home/rdeits/locomotion/explorations/jump-lcp/packages/v0.6/MathOptInterface/src/Utilities/model.jl:283\n  copy!(\u001b[91m::MathOptInterface.Utilities.MockOptimizer\u001b[39m, ::MathOptInterface.ModelLike; copynames) at /home/rdeits/locomotion/explorations/jump-lcp/packages/v0.6/MathOptInterface/src/Utilities/mockoptimizer.jl:232\n  ...\u001b[39m",
     "output_type": "error",
     "traceback": [
      "\u001b[91mMethodError: no method matching copy!(::SemidefiniteOptInterface.SOItoMOIBridge{Float64,CSDP.CSDPSDOptimizer}, ::MathOptInterface.Utilities.UniversalFallback{JuMP.JuMPMOIModel{Float64}}; copynames=false)\u001b[0m\nClosest candidates are:\n  copy!(::SemidefiniteOptInterface.SOItoMOIBridge, ::MathOptInterface.ModelLike) at /home/rdeits/locomotion/explorations/jump-lcp/packages/v0.6/SemidefiniteOptInterface/src/SemidefiniteOptInterface.jl:117\u001b[91m got unsupported keyword argument \"copynames\"\u001b[39m\n  copy!(\u001b[91m::MathOptInterface.Utilities.AbstractModel\u001b[39m, ::MathOptInterface.ModelLike; copynames) at /home/rdeits/locomotion/explorations/jump-lcp/packages/v0.6/MathOptInterface/src/Utilities/model.jl:283\n  copy!(\u001b[91m::MathOptInterface.Utilities.MockOptimizer\u001b[39m, ::MathOptInterface.ModelLike; copynames) at /home/rdeits/locomotion/explorations/jump-lcp/packages/v0.6/MathOptInterface/src/Utilities/mockoptimizer.jl:232\n  ...\u001b[39m",
      "",
      "Stacktrace:",
      " [1] \u001b[1mattachoptimizer!\u001b[22m\u001b[22m\u001b[1m(\u001b[22m\u001b[22m::MathOptInterface.Utilities.CachingOptimizer\u001b[1m)\u001b[22m\u001b[22m at \u001b[1m/home/rdeits/locomotion/explorations/jump-lcp/packages/v0.6/MathOptInterface/src/Utilities/cachingoptimizer.jl:120\u001b[22m\u001b[22m",
      " [2] \u001b[1mattachoptimizer!\u001b[22m\u001b[22m\u001b[1m(\u001b[22m\u001b[22m::JuMP.Model\u001b[1m)\u001b[22m\u001b[22m at \u001b[1m/home/rdeits/locomotion/explorations/jump-lcp/packages/v0.6/JuMP/src/optimizerinterface.jl:25\u001b[22m\u001b[22m",
      " [3] \u001b[1minclude_string\u001b[22m\u001b[22m\u001b[1m(\u001b[22m\u001b[22m::String, ::String\u001b[1m)\u001b[22m\u001b[22m at \u001b[1m./loading.jl:522\u001b[22m\u001b[22m"
     ]
    }
   ],
   "source": [
    "\n",
    "using JuMP\n",
    "using MathOptInterface\n",
    "const MOI = MathOptInterface\n",
    "const MOIU = MOI.Utilities\n",
    "using Base.Test\n",
    "using CSDP\n",
    "solver = CSDPOptimizer()\n",
    "m = Model()\n",
    "x = @variable(m)\n",
    "y = @variable(m)\n",
    "@objective(m, Min, -x)\n",
    "\n",
    "c = @constraint(m, x + y <= 1)\n",
    "\n",
    "model = JuMP.JuMPMOIModel{Float64}()\n",
    "MOIU.resetoptimizer!(m, solver)\n",
    "MOIU.attachoptimizer!(m)\n",
    "\n",
    "JuMP.optimize(m)\n",
    "\n"
   ]
  },
  {
   "cell_type": "code",
   "execution_count": null,
   "metadata": {},
   "outputs": [],
   "source": []
  }
 ],
 "metadata": {
  "kernelspec": {
   "display_name": "Julia 0.6.2",
   "language": "julia",
   "name": "julia-0.6"
  },
  "language_info": {
   "file_extension": ".jl",
   "mimetype": "application/julia",
   "name": "julia",
   "version": "0.6.2"
  }
 },
 "nbformat": 4,
 "nbformat_minor": 2
}
